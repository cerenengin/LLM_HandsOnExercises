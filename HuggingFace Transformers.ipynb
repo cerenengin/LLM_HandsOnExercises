{
 "cells": [
  {
   "cell_type": "markdown",
   "id": "dd5090e5-2401-402c-b0df-8fa43fc64624",
   "metadata": {},
   "source": [
    "## HuggingFace Transformers"
   ]
  },
  {
   "cell_type": "code",
   "execution_count": 1,
   "id": "9813c6d2-9d33-4f29-aebb-18152ec5999e",
   "metadata": {},
   "outputs": [
    {
     "name": "stderr",
     "output_type": "stream",
     "text": [
      "/Users/cerenengin/opt/anaconda3/lib/python3.9/site-packages/scipy/__init__.py:146: UserWarning: A NumPy version >=1.16.5 and <1.23.0 is required for this version of SciPy (detected version 1.26.4\n",
      "  warnings.warn(f\"A NumPy version >={np_minversion} and <{np_maxversion}\"\n"
     ]
    }
   ],
   "source": [
    "from transformers import pipeline"
   ]
  },
  {
   "cell_type": "code",
   "execution_count": 2,
   "id": "be343e0d-e6d2-47b9-8d91-b80c31d4aa77",
   "metadata": {
    "scrolled": true
   },
   "outputs": [
    {
     "name": "stderr",
     "output_type": "stream",
     "text": [
      "No model was supplied, defaulted to distilbert/distilbert-base-uncased-finetuned-sst-2-english and revision af0f99b (https://huggingface.co/distilbert/distilbert-base-uncased-finetuned-sst-2-english).\n",
      "Using a pipeline without specifying a model name and revision in production is not recommended.\n"
     ]
    }
   ],
   "source": [
    "sentiment_classifier = pipeline(\"sentiment-analysis\")"
   ]
  },
  {
   "cell_type": "code",
   "execution_count": 3,
   "id": "90e42fa1-6096-46cb-9fe3-cae83a86baf1",
   "metadata": {},
   "outputs": [
    {
     "data": {
      "text/plain": [
       "[{'label': 'POSITIVE', 'score': 0.9997096657752991}]"
      ]
     },
     "execution_count": 3,
     "metadata": {},
     "output_type": "execute_result"
    }
   ],
   "source": [
    "sentiment_classifier(\"I'm so excited to be learning about large language models\")"
   ]
  },
  {
   "cell_type": "code",
   "execution_count": 4,
   "id": "d847527b-9d04-4c3e-8fee-72651e461fa7",
   "metadata": {},
   "outputs": [
    {
     "name": "stderr",
     "output_type": "stream",
     "text": [
      "Some weights of the model checkpoint at dslim/bert-base-NER were not used when initializing BertForTokenClassification: ['bert.pooler.dense.bias', 'bert.pooler.dense.weight']\n",
      "- This IS expected if you are initializing BertForTokenClassification from the checkpoint of a model trained on another task or with another architecture (e.g. initializing a BertForSequenceClassification model from a BertForPreTraining model).\n",
      "- This IS NOT expected if you are initializing BertForTokenClassification from the checkpoint of a model that you expect to be exactly identical (initializing a BertForSequenceClassification model from a BertForSequenceClassification model).\n"
     ]
    }
   ],
   "source": [
    "ner = pipeline(\"ner\", model = \"dslim/bert-base-NER\")"
   ]
  },
  {
   "cell_type": "code",
   "execution_count": 5,
   "id": "df141d9c-e16e-4a24-b446-b26224703ef3",
   "metadata": {},
   "outputs": [
    {
     "data": {
      "text/plain": [
       "[{'entity': 'B-PER',\n",
       "  'score': 0.9954129,\n",
       "  'index': 4,\n",
       "  'word': 'Anna',\n",
       "  'start': 12,\n",
       "  'end': 16},\n",
       " {'entity': 'B-LOC',\n",
       "  'score': 0.99962914,\n",
       "  'index': 9,\n",
       "  'word': 'New',\n",
       "  'start': 34,\n",
       "  'end': 37},\n",
       " {'entity': 'I-LOC',\n",
       "  'score': 0.9993729,\n",
       "  'index': 10,\n",
       "  'word': 'York',\n",
       "  'start': 38,\n",
       "  'end': 42},\n",
       " {'entity': 'I-LOC',\n",
       "  'score': 0.9995881,\n",
       "  'index': 11,\n",
       "  'word': 'City',\n",
       "  'start': 43,\n",
       "  'end': 47},\n",
       " {'entity': 'B-PER',\n",
       "  'score': 0.99732167,\n",
       "  'index': 13,\n",
       "  'word': 'Morgan',\n",
       "  'start': 52,\n",
       "  'end': 58},\n",
       " {'entity': 'I-PER',\n",
       "  'score': 0.997712,\n",
       "  'index': 14,\n",
       "  'word': 'St',\n",
       "  'start': 59,\n",
       "  'end': 61},\n",
       " {'entity': 'I-PER',\n",
       "  'score': 0.9915455,\n",
       "  'index': 15,\n",
       "  'word': '##en',\n",
       "  'start': 61,\n",
       "  'end': 63},\n",
       " {'entity': 'I-PER',\n",
       "  'score': 0.9251102,\n",
       "  'index': 16,\n",
       "  'word': '##ley',\n",
       "  'start': 63,\n",
       "  'end': 66}]"
      ]
     },
     "execution_count": 5,
     "metadata": {},
     "output_type": "execute_result"
    }
   ],
   "source": [
    "ner(\"Her name is Anna and she works in New York City for Morgan Stenley.\")"
   ]
  },
  {
   "cell_type": "code",
   "execution_count": 6,
   "id": "bbbe91fe-8147-454b-9bb0-9a4af5a1cb7a",
   "metadata": {},
   "outputs": [],
   "source": [
    "zeroshot_classifier = pipeline(\"zero-shot-classification\", model = \"facebook/bart-large-mnli\")"
   ]
  },
  {
   "cell_type": "code",
   "execution_count": 7,
   "id": "201708f8-4289-4949-bed4-c5c418094e77",
   "metadata": {},
   "outputs": [],
   "source": [
    "sequence_to_classify = \"one day I will see the world\"\n",
    "candidate_labels =['travel', 'cooking', 'dancing']"
   ]
  },
  {
   "cell_type": "code",
   "execution_count": 8,
   "id": "794967ad-31a5-499a-ad3b-80736c990d55",
   "metadata": {},
   "outputs": [
    {
     "data": {
      "text/plain": [
       "{'sequence': 'one day I will see the world',\n",
       " 'labels': ['travel', 'dancing', 'cooking'],\n",
       " 'scores': [0.9938650727272034, 0.0032738028094172478, 0.0028610434383153915]}"
      ]
     },
     "execution_count": 8,
     "metadata": {},
     "output_type": "execute_result"
    }
   ],
   "source": [
    "zeroshot_classifier(sequence_to_classify, candidate_labels)"
   ]
  },
  {
   "cell_type": "markdown",
   "id": "b64f7b7d-3c92-4c22-8b04-50e37747c382",
   "metadata": {},
   "source": [
    "## Pre-trained Tokenizers"
   ]
  },
  {
   "cell_type": "code",
   "execution_count": 9,
   "id": "93bc74db-be46-41a6-870a-e39eba897ee7",
   "metadata": {},
   "outputs": [],
   "source": [
    "from transformers import AutoTokenizer"
   ]
  },
  {
   "cell_type": "code",
   "execution_count": 10,
   "id": "230c13ff-718d-48fb-ad3d-7474ed4fe479",
   "metadata": {},
   "outputs": [],
   "source": [
    "model = \"bert-base-uncased\""
   ]
  },
  {
   "cell_type": "code",
   "execution_count": 11,
   "id": "1ae6865f-893e-416d-8cde-733c3790cadb",
   "metadata": {},
   "outputs": [],
   "source": [
    "tokenizer = AutoTokenizer.from_pretrained(model)"
   ]
  },
  {
   "cell_type": "code",
   "execution_count": 12,
   "id": "05132e9a-53cd-4ef8-b38c-19dc3353f645",
   "metadata": {},
   "outputs": [],
   "source": [
    "sentence = \"I'm so excited to be learning about large language models\""
   ]
  },
  {
   "cell_type": "code",
   "execution_count": 13,
   "id": "2b583886-7969-49fa-ab88-33800079068c",
   "metadata": {},
   "outputs": [
    {
     "name": "stdout",
     "output_type": "stream",
     "text": [
      "{'input_ids': [101, 1045, 1005, 1049, 2061, 7568, 2000, 2022, 4083, 2055, 2312, 2653, 4275, 102], 'token_type_ids': [0, 0, 0, 0, 0, 0, 0, 0, 0, 0, 0, 0, 0, 0], 'attention_mask': [1, 1, 1, 1, 1, 1, 1, 1, 1, 1, 1, 1, 1, 1]}\n"
     ]
    }
   ],
   "source": [
    "input_ids = tokenizer(sentence)\n",
    "print(input_ids)"
   ]
  },
  {
   "cell_type": "code",
   "execution_count": 14,
   "id": "5f0bf62a-6121-48ae-b1cb-3ecf3e1867ce",
   "metadata": {},
   "outputs": [],
   "source": [
    "tokens = tokenizer.tokenize(sentence)"
   ]
  },
  {
   "cell_type": "code",
   "execution_count": 15,
   "id": "c4a6af2f-b732-4b1e-8e74-12be0173ffc7",
   "metadata": {},
   "outputs": [
    {
     "name": "stdout",
     "output_type": "stream",
     "text": [
      "['i', \"'\", 'm', 'so', 'excited', 'to', 'be', 'learning', 'about', 'large', 'language', 'models']\n"
     ]
    }
   ],
   "source": [
    "print(tokens)"
   ]
  },
  {
   "cell_type": "code",
   "execution_count": 16,
   "id": "f5df6fcf-f233-49b8-b1ac-7f3fde3d344e",
   "metadata": {},
   "outputs": [],
   "source": [
    "token_ids = tokenizer.convert_tokens_to_ids(tokens)"
   ]
  },
  {
   "cell_type": "code",
   "execution_count": 17,
   "id": "11cb39ba-c79f-4350-9693-f37b2557e0b1",
   "metadata": {},
   "outputs": [
    {
     "name": "stdout",
     "output_type": "stream",
     "text": [
      "[1045, 1005, 1049, 2061, 7568, 2000, 2022, 4083, 2055, 2312, 2653, 4275]\n"
     ]
    }
   ],
   "source": [
    "print(token_ids)"
   ]
  },
  {
   "cell_type": "code",
   "execution_count": 18,
   "id": "560c9da8-063c-4a88-942b-92cec140d105",
   "metadata": {},
   "outputs": [
    {
     "name": "stdout",
     "output_type": "stream",
     "text": [
      "i'm so excited to be learning about large language models\n"
     ]
    }
   ],
   "source": [
    "decoded_ids = tokenizer.decode(token_ids)\n",
    "print(decoded_ids)"
   ]
  },
  {
   "cell_type": "code",
   "execution_count": 19,
   "id": "a6abcf30-c6da-4e2f-8683-3543a98896d5",
   "metadata": {},
   "outputs": [
    {
     "data": {
      "text/plain": [
       "'[CLS]'"
      ]
     },
     "execution_count": 19,
     "metadata": {},
     "output_type": "execute_result"
    }
   ],
   "source": [
    "tokenizer.decode(101)"
   ]
  },
  {
   "cell_type": "code",
   "execution_count": 20,
   "id": "dd6b3988-3f12-4a12-8c43-c36287154ebc",
   "metadata": {},
   "outputs": [
    {
     "data": {
      "text/plain": [
       "'[SEP]'"
      ]
     },
     "execution_count": 20,
     "metadata": {},
     "output_type": "execute_result"
    }
   ],
   "source": [
    "tokenizer.decode(102)"
   ]
  },
  {
   "cell_type": "code",
   "execution_count": 21,
   "id": "1cc2fba5-9923-4c01-9c88-ccd1f807c9ae",
   "metadata": {},
   "outputs": [],
   "source": [
    "model2 = \"xlnet-base-cased\""
   ]
  },
  {
   "cell_type": "code",
   "execution_count": 22,
   "id": "68ea2fc6-e65b-437c-beae-740ea67f1d48",
   "metadata": {},
   "outputs": [],
   "source": [
    "tokenizer2 = AutoTokenizer.from_pretrained(model2)"
   ]
  },
  {
   "cell_type": "code",
   "execution_count": 23,
   "id": "483bacf9-59df-4d1f-96af-9793c59851cb",
   "metadata": {},
   "outputs": [],
   "source": [
    "input_ids = tokenizer2(sentence)"
   ]
  },
  {
   "cell_type": "code",
   "execution_count": 24,
   "id": "29c000c1-7aaa-484d-b0a3-fb69c59d6634",
   "metadata": {},
   "outputs": [
    {
     "name": "stdout",
     "output_type": "stream",
     "text": [
      "{'input_ids': [35, 26, 98, 102, 5564, 22, 39, 1899, 75, 392, 1243, 2626, 4, 3], 'token_type_ids': [0, 0, 0, 0, 0, 0, 0, 0, 0, 0, 0, 0, 0, 2], 'attention_mask': [1, 1, 1, 1, 1, 1, 1, 1, 1, 1, 1, 1, 1, 1]}\n"
     ]
    }
   ],
   "source": [
    "print(input_ids)"
   ]
  },
  {
   "cell_type": "code",
   "execution_count": 25,
   "id": "192da30b-cb2a-41df-8501-1d6d8013fb9b",
   "metadata": {},
   "outputs": [
    {
     "name": "stdout",
     "output_type": "stream",
     "text": [
      "['▁I', \"'\", 'm', '▁so', '▁excited', '▁to', '▁be', '▁learning', '▁about', '▁large', '▁language', '▁models']\n"
     ]
    }
   ],
   "source": [
    "tokens = tokenizer2.tokenize(sentence)\n",
    "print(tokens)"
   ]
  },
  {
   "cell_type": "code",
   "execution_count": 26,
   "id": "24b31c14-d13e-4795-a673-19b1808fb1cb",
   "metadata": {},
   "outputs": [
    {
     "name": "stdout",
     "output_type": "stream",
     "text": [
      "[35, 26, 98, 102, 5564, 22, 39, 1899, 75, 392, 1243, 2626]\n"
     ]
    }
   ],
   "source": [
    "token_ids = tokenizer2.convert_tokens_to_ids(tokens)\n",
    "print(token_ids)"
   ]
  },
  {
   "cell_type": "code",
   "execution_count": 27,
   "id": "6623fbee-d447-49e5-9faf-2c3d0ad6a512",
   "metadata": {},
   "outputs": [
    {
     "data": {
      "text/plain": [
       "'<sep>'"
      ]
     },
     "execution_count": 27,
     "metadata": {},
     "output_type": "execute_result"
    }
   ],
   "source": [
    "tokenizer2.decode(4)"
   ]
  },
  {
   "cell_type": "code",
   "execution_count": 28,
   "id": "2c441d07-74b4-45dc-81a2-bf8046186e1c",
   "metadata": {},
   "outputs": [
    {
     "data": {
      "text/plain": [
       "'<cls>'"
      ]
     },
     "execution_count": 28,
     "metadata": {},
     "output_type": "execute_result"
    }
   ],
   "source": [
    "tokenizer2.decode(3)"
   ]
  },
  {
   "cell_type": "markdown",
   "id": "b15b6617-3c1f-46de-8d48-779caab97688",
   "metadata": {},
   "source": [
    "## Huggingface and Pytorch/Tensorflow"
   ]
  },
  {
   "cell_type": "code",
   "execution_count": 29,
   "id": "ed9693ad-9588-4ea2-ae26-1c163e51da8a",
   "metadata": {},
   "outputs": [],
   "source": [
    "from transformers import AutoTokenizer, AutoModelForSequenceClassification\n",
    "import torch"
   ]
  },
  {
   "cell_type": "code",
   "execution_count": 30,
   "id": "60e38851-1d69-4cdd-9d27-7b213d57a065",
   "metadata": {},
   "outputs": [
    {
     "name": "stdout",
     "output_type": "stream",
     "text": [
      "I'm so excited to be learning about large language models\n",
      "{'input_ids': [35, 26, 98, 102, 5564, 22, 39, 1899, 75, 392, 1243, 2626, 4, 3], 'token_type_ids': [0, 0, 0, 0, 0, 0, 0, 0, 0, 0, 0, 0, 0, 2], 'attention_mask': [1, 1, 1, 1, 1, 1, 1, 1, 1, 1, 1, 1, 1, 1]}\n"
     ]
    }
   ],
   "source": [
    "print(sentence)\n",
    "print(input_ids)"
   ]
  },
  {
   "cell_type": "code",
   "execution_count": 31,
   "id": "8c2e989f-c467-475c-b655-f24c4195f6da",
   "metadata": {},
   "outputs": [],
   "source": [
    "tokenizer = AutoTokenizer.from_pretrained(\"distilbert-base-uncased-finetuned-sst-2-english\")"
   ]
  },
  {
   "cell_type": "code",
   "execution_count": 32,
   "id": "d13c626a-4b02-4c25-a2fc-8ede93e92412",
   "metadata": {},
   "outputs": [
    {
     "name": "stdout",
     "output_type": "stream",
     "text": [
      "{'input_ids': tensor([[ 101, 1045, 1005, 1049, 2061, 7568, 2000, 2022, 4083, 2055, 2312, 2653,\n",
      "         4275,  102]]), 'attention_mask': tensor([[1, 1, 1, 1, 1, 1, 1, 1, 1, 1, 1, 1, 1, 1]])}\n"
     ]
    }
   ],
   "source": [
    "input_ids_pt = tokenizer(sentence, return_tensors = \"pt\")\n",
    "print(input_ids_pt)"
   ]
  },
  {
   "cell_type": "code",
   "execution_count": 33,
   "id": "116c56fc-43e0-4f89-b721-6968864b5b43",
   "metadata": {},
   "outputs": [],
   "source": [
    "model = AutoModelForSequenceClassification.from_pretrained(\"distilbert-base-uncased-finetuned-sst-2-english\")"
   ]
  },
  {
   "cell_type": "code",
   "execution_count": 34,
   "id": "7e8dfe50-bc4e-40db-8f6f-a0b0dda02928",
   "metadata": {},
   "outputs": [
    {
     "data": {
      "text/plain": [
       "'POSITIVE'"
      ]
     },
     "execution_count": 34,
     "metadata": {},
     "output_type": "execute_result"
    }
   ],
   "source": [
    "with torch.no_grad():\n",
    "    logits = model(**input_ids_pt).logits\n",
    "\n",
    "predicted_class_id = logits.argmax().item()\n",
    "model.config.id2label[predicted_class_id]"
   ]
  },
  {
   "cell_type": "markdown",
   "id": "774cb087-6e16-4e49-be81-f1a35cc33b04",
   "metadata": {},
   "source": [
    "## Saving and Loading Models"
   ]
  },
  {
   "cell_type": "code",
   "execution_count": 35,
   "id": "8fee0670-58e0-4b17-9627-dce0ce4b3f05",
   "metadata": {},
   "outputs": [],
   "source": [
    "model_directory = \"my_saved_models\""
   ]
  },
  {
   "cell_type": "code",
   "execution_count": 36,
   "id": "d261aece-01d4-49e4-b0b5-0efe5302e227",
   "metadata": {},
   "outputs": [
    {
     "data": {
      "text/plain": [
       "('my_saved_models/tokenizer_config.json',\n",
       " 'my_saved_models/special_tokens_map.json',\n",
       " 'my_saved_models/vocab.txt',\n",
       " 'my_saved_models/added_tokens.json',\n",
       " 'my_saved_models/tokenizer.json')"
      ]
     },
     "execution_count": 36,
     "metadata": {},
     "output_type": "execute_result"
    }
   ],
   "source": [
    "tokenizer.save_pretrained(model_directory)"
   ]
  },
  {
   "cell_type": "code",
   "execution_count": 37,
   "id": "48b085dd-a5fc-4000-9b7f-82feadbb99c0",
   "metadata": {},
   "outputs": [],
   "source": [
    "model.save_pretrained(model_directory)"
   ]
  },
  {
   "cell_type": "code",
   "execution_count": 38,
   "id": "0b49d7b1-f28f-43a1-872d-f7ff2ca17b1f",
   "metadata": {},
   "outputs": [],
   "source": [
    "my_tokenizer = AutoTokenizer.from_pretrained(model_directory)"
   ]
  },
  {
   "cell_type": "code",
   "execution_count": 39,
   "id": "6e2eb934-ec3c-4b2d-a9c8-30774bff0711",
   "metadata": {},
   "outputs": [],
   "source": [
    "my_model = AutoModelForSequenceClassification.from_pretrained(model_directory)"
   ]
  }
 ],
 "metadata": {
  "kernelspec": {
   "display_name": "Python 3 (ipykernel)",
   "language": "python",
   "name": "python3"
  },
  "language_info": {
   "codemirror_mode": {
    "name": "ipython",
    "version": 3
   },
   "file_extension": ".py",
   "mimetype": "text/x-python",
   "name": "python",
   "nbconvert_exporter": "python",
   "pygments_lexer": "ipython3",
   "version": "3.9.18"
  }
 },
 "nbformat": 4,
 "nbformat_minor": 5
}
